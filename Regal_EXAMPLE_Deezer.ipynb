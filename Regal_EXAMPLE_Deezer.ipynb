{
  "nbformat": 4,
  "nbformat_minor": 0,
  "metadata": {
    "colab": {
      "provenance": [],
      "authorship_tag": "ABX9TyOmJXYEC6Jo5UgZ4WYgpT1r",
      "include_colab_link": true
    },
    "kernelspec": {
      "name": "python3",
      "display_name": "Python 3"
    },
    "language_info": {
      "name": "python"
    }
  },
  "cells": [
    {
      "cell_type": "markdown",
      "metadata": {
        "id": "view-in-github",
        "colab_type": "text"
      },
      "source": [
        "<a href=\"https://colab.research.google.com/github/nicholasgaubatz/regal_data-mining/blob/main/Regal_EXAMPLE_Deezer.ipynb\" target=\"_parent\"><img src=\"https://colab.research.google.com/assets/colab-badge.svg\" alt=\"Open In Colab\"/></a>"
      ]
    },
    {
      "cell_type": "markdown",
      "source": [
        "# Import Section"
      ],
      "metadata": {
        "id": "atzzCIBpyU2N"
      }
    },
    {
      "cell_type": "code",
      "execution_count": 1,
      "metadata": {
        "id": "gbQ00kFAKaqk"
      },
      "outputs": [],
      "source": [
        "import networkx as nx\n",
        "import pandas as pd\n",
        "import os\n",
        "from scipy import sparse\n",
        "from aligning import *\n",
        "from extract import *\n",
        "from representation import *\n",
        "from config import RepMethod"
      ]
    },
    {
      "cell_type": "markdown",
      "source": [
        "# Read in the graphs\n",
        "\n",
        "We are comparing the database of Deezer users in Romania and Hungary."
      ],
      "metadata": {
        "id": "Ly6BjJF_yF2q"
      }
    },
    {
      "cell_type": "code",
      "source": [
        "df2=pd.read_csv(\"RO_edges.csv\")"
      ],
      "metadata": {
        "id": "oRzjMaq6OwMX"
      },
      "execution_count": 2,
      "outputs": []
    },
    {
      "cell_type": "code",
      "source": [
        "df=pd.read_csv(\"HU_edges.csv\")"
      ],
      "metadata": {
        "id": "VVootXMIK0Ou"
      },
      "execution_count": 4,
      "outputs": []
    },
    {
      "cell_type": "markdown",
      "source": [
        "# Extract the features\n",
        "Step 1\n"
      ],
      "metadata": {
        "id": "R33j4WaOymd7"
      }
    },
    {
      "cell_type": "code",
      "source": [
        "G = nx.from_pandas_edgelist(df, source='node_1', target='node_2')"
      ],
      "metadata": {
        "id": "c6A1skZJK99L"
      },
      "execution_count": 5,
      "outputs": []
    },
    {
      "cell_type": "code",
      "source": [
        "G2= nx.from_pandas_edgelist(df2, source='node_1', target='node_2')"
      ],
      "metadata": {
        "id": "34w-KIWfP0Qn"
      },
      "execution_count": 6,
      "outputs": []
    },
    {
      "cell_type": "code",
      "source": [
        "adj_matrix2 =nx.adjacency_matrix(G2)"
      ],
      "metadata": {
        "id": "7ltdw2OoPzE5"
      },
      "execution_count": 7,
      "outputs": []
    },
    {
      "cell_type": "code",
      "source": [
        "adj_matrix=nx.adjacency_matrix(G)"
      ],
      "metadata": {
        "id": "2H3IM0kHLBIV"
      },
      "execution_count": 8,
      "outputs": []
    },
    {
      "cell_type": "code",
      "source": [
        "adj_matrix_combined = sparse.block_diag([adj_matrix, adj_matrix2])\n",
        "\n",
        "# Initialize the graph objects\n",
        "graph1 = Graph(adj_matrix)\n",
        "graph2 = Graph(adj_matrix2)\n",
        "graph3 = Graph(adj_matrix_combined)"
      ],
      "metadata": {
        "id": "nH0YF3SBLN_O"
      },
      "execution_count": 9,
      "outputs": []
    },
    {
      "cell_type": "markdown",
      "source": [
        "I commented out the node identities 1 and 2 to lower runtime\n"
      ],
      "metadata": {
        "id": "GDPtlR52yxYJ"
      }
    },
    {
      "cell_type": "code",
      "source": [
        "K = 2  # Maximum hop distance\n",
        "delta = 0.5  # Discount factor\n",
        "\n",
        "# Extract node identities for both graphs\n",
        "#node_identities_1 = extract_node_identity(graph1, K, delta)\n",
        "#node_identities_2 = extract_node_identity(graph2, K, delta)\n",
        "node_identities_3 = extract_node_identity(graph3, K, delta)\n",
        "\n",
        "#print(\"Node Identities for Graph 1:\\n\", node_identities_1)\n",
        "#print(\"\\nNode Identities for Graph 2:\\n\", node_identities_2)\n",
        "print(\"\\nNode Identities for Graph 3:\\n\", node_identities_3)"
      ],
      "metadata": {
        "colab": {
          "base_uri": "https://localhost:8080/"
        },
        "id": "3MGioP1XLSN8",
        "outputId": "23f1d5b8-020a-483e-bcf0-0fa3b20898a1"
      },
      "execution_count": 10,
      "outputs": [
        {
          "output_type": "stream",
          "name": "stdout",
          "text": [
            "\n",
            "Node Identities for Graph 3:\n",
            " [[0. 0. 1. ... 0. 0. 0.]\n",
            " [0. 0. 0. ... 0. 0. 0.]\n",
            " [0. 0. 0. ... 0. 0. 0.]\n",
            " ...\n",
            " [0. 0. 0. ... 0. 0. 0.]\n",
            " [0. 0. 1. ... 0. 0. 0.]\n",
            " [0. 0. 0. ... 0. 0. 0.]]\n"
          ]
        }
      ]
    },
    {
      "cell_type": "markdown",
      "source": [
        "# Get the representations of the graphs"
      ],
      "metadata": {
        "id": "gosLAuGTy5Zc"
      }
    },
    {
      "cell_type": "code",
      "source": [
        "rep_method = RepMethod(max_layer=2)\n",
        "print('Number of landmark nodes:', rep_method.p)\n"
      ],
      "metadata": {
        "colab": {
          "base_uri": "https://localhost:8080/"
        },
        "id": "-1IsJ_egRkY0",
        "outputId": "26c9ad8b-5168-4cfc-b054-ad97694322e2"
      },
      "execution_count": 15,
      "outputs": [
        {
          "output_type": "stream",
          "name": "stdout",
          "text": [
            "Number of landmark nodes: None\n"
          ]
        }
      ]
    },
    {
      "cell_type": "code",
      "source": [
        "get_number_of_landmarks(graph3, rep_method)\n",
        "print(rep_method.p)"
      ],
      "metadata": {
        "colab": {
          "base_uri": "https://localhost:8080/"
        },
        "id": "VxBUGPRCTeeF",
        "outputId": "266c8770-58f2-40c7-e27e-ff29648d6787"
      },
      "execution_count": 17,
      "outputs": [
        {
          "output_type": "stream",
          "name": "stdout",
          "text": [
            "164\n"
          ]
        }
      ]
    },
    {
      "cell_type": "code",
      "source": [
        "landmarks = get_random_landmarks(graph3, rep_method)\n",
        "print(landmarks)"
      ],
      "metadata": {
        "colab": {
          "base_uri": "https://localhost:8080/"
        },
        "id": "JBtBBrjMRlxL",
        "outputId": "4b64fc62-89d1-4f90-f625-84d609be1e40"
      },
      "execution_count": 18,
      "outputs": [
        {
          "output_type": "stream",
          "name": "stdout",
          "text": [
            "[14623 81269  1097 85302 14958 61694 55571 43556 13041 37734  7632 89019\n",
            " 16892 31835 82496 40883 24124 82766 18136 38922 72899 51647 55594 57601\n",
            " 50749 75292 29086 35141 45612 41196 59095 73986 76039 88956 27286 76235\n",
            " 39989 68538 25338 17073 58046 58524 86311 85258 30278 54648  5017 65756\n",
            " 52038 45040  7461 31549 13454 27108 38517 86340 18765 62861 52624 88940\n",
            " 34220 81913 70658 10398 16969 37887 84232  3588 54112 74146 16359 37492\n",
            " 61573 48096 17207 62950 58615 76644 85452 56589 72697 52172 65987 53785\n",
            "  1366  9559 11487 87887 88661 38286 13399 79748 32509 25903 23259 26304\n",
            "  4537 89195  9135 15880 23655 33826 88203 84235 40263 21753 71769 59922\n",
            " 89182 15258 30192 50369 39786 86480 81707 79084 71647 67268  5104 14181\n",
            " 47066 17959 24081 37816  7027 78756 69434 65790 71519 75802 77826 87137\n",
            " 35396 82967 49680 70071 50550 71379 31923 88691 28602 29908 72072 43349\n",
            " 58460 45022 22455 45053 50141 43778 39186 53185 43404  1023 12709  1830\n",
            "  8841 81711 17208 28274 10582 11245 88459 17413]\n"
          ]
        }
      ]
    },
    {
      "cell_type": "code",
      "source": [
        "C = compute_C_matrix(node_identities_3, landmarks)\n",
        "(f'Shape of C: {len(C)} x {len(C[0])}')\n",
        "print('C:')\n",
        "print(C)"
      ],
      "metadata": {
        "colab": {
          "base_uri": "https://localhost:8080/"
        },
        "id": "AYkCrcICRtxm",
        "outputId": "7f9023a8-c153-42d8-8039-4cf36f368bea"
      },
      "execution_count": 19,
      "outputs": [
        {
          "output_type": "stream",
          "name": "stdout",
          "text": [
            "C:\n",
            "[[5.49675402e-137 2.89719808e-044 1.87786949e-031 ... 0.00000000e+000\n",
            "  1.02528200e-029 3.05362431e-045]\n",
            " [6.96118029e-151 1.80644620e-016 2.22933171e-020 ... 0.00000000e+000\n",
            "  4.91042987e-016 1.54008828e-051]\n",
            " [2.27160567e-182 1.95556811e-008 2.78700543e-029 ... 0.00000000e+000\n",
            "  2.97832627e-016 2.16669124e-067]\n",
            " ...\n",
            " [2.29912624e-206 4.97870684e-002 1.09469770e-035 ... 0.00000000e+000\n",
            "  1.58321429e-023 9.57726952e-081]\n",
            " [3.02944698e-216 1.42642339e-002 6.38150345e-040 ... 0.00000000e+000\n",
            "  1.24904918e-028 7.55581902e-086]\n",
            " [2.04302899e-199 2.03468369e-004 2.97569687e-035 ... 0.00000000e+000\n",
            "  1.05306174e-020 1.75413810e-082]]\n"
          ]
        }
      ]
    },
    {
      "cell_type": "code",
      "source": [
        "representations_1, representations_2 = compute_representation(C, landmarks, adj_matrix.shape[0])\n",
        "print('Representations of nodes from first graph:')\n",
        "print(representations_1)\n",
        "representations_1= np.nan_to_num(representations_1, nan=0)\n",
        "representations_2= np.nan_to_num(representations_2, nan=0)"
      ],
      "metadata": {
        "colab": {
          "base_uri": "https://localhost:8080/"
        },
        "id": "Kuhur3tcRDp0",
        "outputId": "37cd2321-6329-4599-c494-f21651b8c287"
      },
      "execution_count": 20,
      "outputs": [
        {
          "output_type": "stream",
          "name": "stdout",
          "text": [
            "Representations of nodes from first graph:\n",
            "[[ 3.89470535e-17  1.20504527e-16  5.55569788e-18 ... -3.13747780e-16\n",
            "  -6.42444483e-17 -1.68039186e-17]\n",
            " [ 1.25069366e-08  3.84751916e-09 -1.38671027e-08 ... -2.27453537e-07\n",
            "  -5.28107896e-08  8.87090734e-09]\n",
            " [ 4.31710648e-04  3.98268271e-04 -1.05025406e-03 ... -1.50638840e-02\n",
            "  -2.25656010e-03  9.57798403e-04]\n",
            " ...\n",
            " [ 1.27193429e-02 -2.83883121e-03 -1.70711300e-04 ...  2.03121827e-02\n",
            "   1.24944324e-01  9.84710416e-01]\n",
            " [-6.18056691e-02  1.25579976e-01 -2.02405597e-01 ... -3.54195622e-01\n",
            "  -2.72677365e-01  2.66440518e-01]\n",
            " [ 1.11556354e-01  1.76611023e-01  1.44704657e-01 ... -3.42635375e-01\n",
            "  -6.59155712e-02  3.68128298e-01]]\n"
          ]
        },
        {
          "output_type": "stream",
          "name": "stderr",
          "text": [
            "/content/representation.py:74: RuntimeWarning: divide by zero encountered in divide\n",
            "  Y_twiddle = Y_twiddle / np.linalg.norm(Y_twiddle, axis=1).reshape(Y_twiddle.shape[0], 1) # Normalization of rows\n",
            "/content/representation.py:74: RuntimeWarning: invalid value encountered in divide\n",
            "  Y_twiddle = Y_twiddle / np.linalg.norm(Y_twiddle, axis=1).reshape(Y_twiddle.shape[0], 1) # Normalization of rows\n"
          ]
        }
      ]
    },
    {
      "cell_type": "markdown",
      "source": [
        "# Calculate Similarity Matrix\n"
      ],
      "metadata": {
        "id": "Qm4Grv96zBMU"
      }
    },
    {
      "cell_type": "code",
      "source": [
        "similarity_matrix = get_similarity_matrix(representations_1, representations_2, 3)\n",
        "print(similarity_matrix)"
      ],
      "metadata": {
        "colab": {
          "base_uri": "https://localhost:8080/"
        },
        "id": "gZrUDiMMUwqF",
        "outputId": "2718c7fa-9c74-489a-90bb-23edbf252cee"
      },
      "execution_count": 21,
      "outputs": [
        {
          "output_type": "stream",
          "name": "stderr",
          "text": [
            "/usr/local/lib/python3.10/dist-packages/numpy/core/fromnumeric.py:88: RuntimeWarning: invalid value encountered in reduce\n",
            "  return ufunc.reduce(obj, axis, dtype, out, **passkwargs)\n",
            "/usr/local/lib/python3.10/dist-packages/numpy/core/fromnumeric.py:88: RuntimeWarning: invalid value encountered in reduce\n",
            "  return ufunc.reduce(obj, axis, dtype, out, **passkwargs)\n"
          ]
        },
        {
          "output_type": "stream",
          "name": "stdout",
          "text": [
            "  (0, 37648)\t0.979615959807361\n",
            "  (0, 15718)\t0.9068525180728447\n",
            "  (0, 13200)\t0.8181353338838454\n",
            "  (1, 7504)\t0.9308335557587669\n",
            "  (1, 37988)\t0.874328127202474\n",
            "  (1, 31435)\t0.8666210299802761\n",
            "  (2, 11732)\t0.6320771817431458\n",
            "  (2, 35706)\t0.6111633740480582\n",
            "  (2, 24666)\t0.5933802182632709\n",
            "  (3, 25339)\t0.8205490097869452\n",
            "  (3, 1880)\t0.7876250500013583\n",
            "  (3, 16153)\t0.7377116415840013\n",
            "  (4, 16100)\t0.9655165825698269\n",
            "  (4, 13807)\t0.9651179141559776\n",
            "  (4, 166)\t0.9620707485190786\n",
            "  (5, 32454)\t0.7102062782728552\n",
            "  (5, 3479)\t0.7048729497774576\n",
            "  (5, 5943)\t0.7034931212027898\n",
            "  (6, 3442)\t0.7938868485925901\n",
            "  (6, 6242)\t0.6258704830381911\n",
            "  (6, 8416)\t0.6258464764252127\n",
            "  (7, 39978)\t0.5423649397645444\n",
            "  (7, 34837)\t0.5040460878784344\n",
            "  (7, 39675)\t0.49986007045205927\n",
            "  (8, 25229)\t0.9707501148957018\n",
            "  :\t:\n",
            "  (47529, 37103)\t0.7211347821705898\n",
            "  (47530, 41112)\t0.9056442317929785\n",
            "  (47530, 25978)\t0.9048812175711838\n",
            "  (47530, 5238)\t0.9028089220727741\n",
            "  (47531, 37836)\t0.6405172927626103\n",
            "  (47531, 38062)\t0.637091646783858\n",
            "  (47531, 41326)\t0.637091646783858\n",
            "  (47532, 9468)\t0.96245832213206\n",
            "  (47532, 36077)\t0.9479071924163542\n",
            "  (47532, 38767)\t0.9424459287933604\n",
            "  (47533, 11780)\t1.0\n",
            "  (47533, 1572)\t1.0\n",
            "  (47533, 765)\t1.0\n",
            "  (47534, 9535)\t0.9523271141693468\n",
            "  (47534, 28376)\t0.9483952588808429\n",
            "  (47534, 38883)\t0.942058699374578\n",
            "  (47535, 39283)\t0.9999908754646514\n",
            "  (47535, 12700)\t0.9999908754646514\n",
            "  (47535, 29909)\t0.9999908754646514\n",
            "  (47536, 24421)\t0.6104002557604605\n",
            "  (47536, 37024)\t0.6051116860904769\n",
            "  (47536, 11055)\t0.5826368182190897\n",
            "  (47537, 10554)\t0.9393039497351985\n",
            "  (47537, 40160)\t0.810407225694284\n",
            "  (47537, 41497)\t0.8102634266046562\n"
          ]
        }
      ]
    }
  ]
}