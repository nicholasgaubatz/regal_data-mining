{
 "cells": [
  {
   "cell_type": "markdown",
   "metadata": {},
   "source": [
    "An example that computes the representation, as in step 2 of the xNetMF algorithm given on pages 4 and 5 of the paper.\n",
    "\n",
    "To run this notebook, ensure that config.py and xnetmf.py are in the same folder as this file. We probably shouldn't put them on GitHub, since we don't want to use any of their code."
   ]
  },
  {
   "cell_type": "code",
   "execution_count": 1,
   "metadata": {},
   "outputs": [],
   "source": [
    "import numpy as np\n",
    "from scipy import sparse\n",
    "\n",
    "from config import * # Defines Graph and RepMethod classes that we use in step 1 placeholder\n",
    "from xnetmf import get_features # Computes the feature matrix in the step 1 placeholder\n",
    "\n",
    "from representation import *"
   ]
  },
  {
   "cell_type": "markdown",
   "metadata": {},
   "source": [
    "# Step 1: Node identity extraction (placeholder)\n",
    "\n",
    "We compute the feature matrix using the paper's authors' source code."
   ]
  },
  {
   "cell_type": "markdown",
   "metadata": {},
   "source": [
    "Run only this block for two $1000 \\times 1000$ adjacency matrices. Run only the next block for a specific small example found in figure 2 of the paper."
   ]
  },
  {
   "cell_type": "code",
   "execution_count": 2,
   "metadata": {},
   "outputs": [
    {
     "data": {
      "text/plain": [
       "'np.random.seed(1)\\n\\nA = sparse.csr_matrix( np.random.randint(2,size=(1000,1000)) )\\nB = sparse.csr_matrix( np.random.randint(2,size=(1000,1000)) )\\ncomb = sparse.block_diag([A, B])\\n\\ngraph = Graph(adj = comb.tocsr())\\nrep_method = RepMethod(max_layer = 2)'"
      ]
     },
     "execution_count": 2,
     "metadata": {},
     "output_type": "execute_result"
    }
   ],
   "source": [
    "\"\"\"np.random.seed(1)\n",
    "\n",
    "A = sparse.csr_matrix( np.random.randint(2,size=(1000,1000)) )\n",
    "B = sparse.csr_matrix( np.random.randint(2,size=(1000,1000)) )\n",
    "comb = sparse.block_diag([A, B])\n",
    "\n",
    "graph = Graph(adj = comb.tocsr())\n",
    "rep_method = RepMethod(max_layer = 2)\"\"\""
   ]
  },
  {
   "cell_type": "code",
   "execution_count": 3,
   "metadata": {},
   "outputs": [],
   "source": [
    "np.random.seed(1)\n",
    "\n",
    "A = sparse.csr_matrix(np.array([[0., 1., 1., 1., 0.],\n",
    "                                [1., 0., 0., 0., 0.],\n",
    "                                [1., 0., 0., 0., 0.],\n",
    "                                [1., 0., 0., 0., 1.],\n",
    "                                [0., 0., 0., 1., 0.]]))\n",
    "\n",
    "B = sparse.csr_matrix(np.array([[0., 1., 0., 0., 0., 0.],\n",
    "                                [1., 0., 0., 1., 0., 0.],\n",
    "                                [0., 0., 0., 1., 1., 0.],\n",
    "                                [0., 1., 1., 0., 1., 1.],\n",
    "                                [0., 0., 1., 1., 0., 0.],\n",
    "                                [0., 0., 0., 1., 0., 0.]]))\n",
    "comb = sparse.block_diag([A, B])\n",
    "\n",
    "graph = Graph(adj = comb.tocsr())\n",
    "rep_method = RepMethod(max_layer=2)"
   ]
  },
  {
   "cell_type": "markdown",
   "metadata": {},
   "source": [
    "Get the feature matrix, as computed in their source code."
   ]
  },
  {
   "cell_type": "code",
   "execution_count": 4,
   "metadata": {},
   "outputs": [
    {
     "name": "stdout",
     "output_type": "stream",
     "text": [
      "max degree:  4\n",
      "got k hop neighbors in time:  0.0022678375244140625\n",
      "got degree sequences in time:  0.00013875961303710938\n"
     ]
    }
   ],
   "source": [
    "feature_matrix = get_features(graph, rep_method, True)"
   ]
  },
  {
   "cell_type": "code",
   "execution_count": 5,
   "metadata": {},
   "outputs": [
    {
     "name": "stdout",
     "output_type": "stream",
     "text": [
      "[[0.   0.21 0.1  1.   0.  ]\n",
      " [0.   1.01 0.01 0.1  0.  ]\n",
      " [0.   1.01 0.01 0.1  0.  ]\n",
      " [0.   0.12 1.   0.1  0.  ]\n",
      " [0.   1.   0.1  0.01 0.  ]\n",
      " [0.   1.   0.1  0.   0.01]\n",
      " [0.   0.11 1.02 0.   0.1 ]\n",
      " [0.   0.01 1.11 0.   0.1 ]\n",
      " [0.   0.11 0.3  0.   1.  ]\n",
      " [0.   0.01 1.11 0.   0.1 ]\n",
      " [0.   1.   0.03 0.   0.1 ]]\n"
     ]
    }
   ],
   "source": [
    "print(feature_matrix)"
   ]
  },
  {
   "cell_type": "markdown",
   "metadata": {},
   "source": [
    "# Step 2: Efficient similarity-based representation"
   ]
  },
  {
   "cell_type": "markdown",
   "metadata": {},
   "source": [
    "See representation.py for the custom code (based on the source code)."
   ]
  },
  {
   "cell_type": "markdown",
   "metadata": {},
   "source": [
    "First, compute the number of landmark nodes. Recall: this is, by default, the minimum of $p$ and $10\\log_{2}(n)$, where $n$ is the total number of nodes of the two graphs."
   ]
  },
  {
   "cell_type": "code",
   "execution_count": 6,
   "metadata": {},
   "outputs": [
    {
     "name": "stdout",
     "output_type": "stream",
     "text": [
      "Number of landmark nodes: None\n"
     ]
    }
   ],
   "source": [
    "print('Number of landmark nodes:', rep_method.p)"
   ]
  },
  {
   "cell_type": "code",
   "execution_count": 7,
   "metadata": {},
   "outputs": [
    {
     "name": "stdout",
     "output_type": "stream",
     "text": [
      "Number of landmark nodes: 11\n"
     ]
    }
   ],
   "source": [
    "get_number_of_landmarks(graph, rep_method)\n",
    "print('Number of landmark nodes:', rep_method.p)"
   ]
  },
  {
   "cell_type": "markdown",
   "metadata": {},
   "source": [
    "Get the landmark nodes, which are chosen randomly."
   ]
  },
  {
   "cell_type": "code",
   "execution_count": 8,
   "metadata": {},
   "outputs": [
    {
     "name": "stdout",
     "output_type": "stream",
     "text": [
      "[ 2  3  4  9  1  6  0  7 10  8  5]\n"
     ]
    }
   ],
   "source": [
    "landmarks = get_random_landmarks(graph, rep_method)\n",
    "print(landmarks)"
   ]
  },
  {
   "cell_type": "markdown",
   "metadata": {},
   "source": [
    "Compute the similarity matrix between all $n$ nodes and all $p$ landmark nodes."
   ]
  },
  {
   "cell_type": "code",
   "execution_count": 9,
   "metadata": {},
   "outputs": [
    {
     "name": "stdout",
     "output_type": "stream",
     "text": [
      "Shape of C: 11 x 11\n",
      "C:\n",
      "[[0.23267794 0.19630219 0.20105033 0.12617316 0.23267794 0.15467951\n",
      "  1.         0.12617316 0.19417412 0.1287349  0.19706927]\n",
      " [1.         0.16995867 0.98383213 0.10752843 1.         0.15722144\n",
      "  0.23267794 0.10752843 0.9797087  0.14895664 0.98186643]\n",
      " [1.         0.16995867 0.98383213 0.10752843 1.         0.15722144\n",
      "  0.23267794 0.10752843 0.9797087  0.14895664 0.98186643]\n",
      " [0.16995867 1.         0.20341643 0.95676259 0.16995867 0.9797087\n",
      "  0.19630219 0.95676259 0.17634729 0.22310785 0.20301001]\n",
      " [0.98383213 0.20341643 1.         0.13394848 0.98383213 0.19231897\n",
      "  0.20105033 0.13394848 0.98511194 0.16006105 0.99980002]\n",
      " [0.98186643 0.20301001 0.99980002 0.13421665 0.98186643 0.19270399\n",
      "  0.19706927 0.13421665 0.98708414 0.16329449 1.        ]\n",
      " [0.15722144 0.9797087  0.19231897 0.98206282 0.15722144 1.\n",
      "  0.15467951 0.98206282 0.16995867 0.26490076 0.19270399]\n",
      " [0.10752843 0.95676259 0.13394848 1.         0.10752843 0.98206282\n",
      "  0.12617316 1.         0.11689257 0.22852721 0.13421665]\n",
      " [0.14895664 0.22310785 0.16006105 0.22852721 0.14895664 0.26490076\n",
      "  0.1287349  0.22852721 0.18730818 1.         0.16329449]\n",
      " [0.10752843 0.95676259 0.13394848 1.         0.10752843 0.98206282\n",
      "  0.12617316 1.         0.11689257 0.22852721 0.13421665]\n",
      " [0.9797087  0.17634729 0.98511194 0.11689257 0.9797087  0.16995867\n",
      "  0.19417412 0.11689257 1.         0.18730818 0.98708414]]\n"
     ]
    }
   ],
   "source": [
    "C = compute_C_matrix(feature_matrix, landmarks)\n",
    "print(f'Shape of C: {len(C)} x {len(C[0])}')\n",
    "print('C:')\n",
    "print(C)"
   ]
  },
  {
   "cell_type": "markdown",
   "metadata": {},
   "source": [
    "Lastly, compute representations."
   ]
  },
  {
   "cell_type": "code",
   "execution_count": 10,
   "metadata": {},
   "outputs": [
    {
     "name": "stdout",
     "output_type": "stream",
     "text": [
      "Representations of nodes from first graph:\n",
      "[[-1.24779431e-07  3.88762298e-04 -6.29061414e-04  1.11262294e-02\n",
      "   8.63518936e-03 -5.90462261e-01  7.48798035e-01  3.64296534e-02\n",
      "   2.98546137e-01 -4.44869391e-18 -4.12424518e-21]\n",
      " [-7.65052822e-05  8.13762154e-03 -3.12519934e-03 -9.11184468e-02\n",
      "   4.05700058e-02 -1.72651094e-02 -4.14625549e-02 -4.16916661e-01\n",
      "   9.02296392e-01 -1.64922503e-17 -1.49554466e-20]\n",
      " [-7.65052822e-05  8.13762154e-03 -3.12519934e-03 -9.11184468e-02\n",
      "   4.05700058e-02 -1.72651094e-02 -4.14625549e-02 -4.16916661e-01\n",
      "   9.02296392e-01 -1.64922503e-17 -1.49554466e-20]\n",
      " [-7.26524877e-06 -3.79739523e-02  2.47522713e-02 -5.24130100e-02\n",
      "  -1.65423199e-01 -6.95455462e-02 -5.20185929e-02  8.04807226e-01\n",
      "   5.59085107e-01 -5.28404289e-18 -5.22763976e-21]\n",
      " [ 1.66769023e-03 -1.20918602e-02 -5.49945850e-02  5.20945059e-02\n",
      "  -3.86513962e-02  1.07889981e-02 -6.89839481e-02 -3.89413032e-01\n",
      "   9.14385660e-01 -1.65686446e-17 -1.50359114e-20]]\n"
     ]
    }
   ],
   "source": [
    "representations_1, representations_2 = compute_representation(C, landmarks, A.shape[0])\n",
    "print('Representations of nodes from first graph:')\n",
    "print(representations_1)"
   ]
  },
  {
   "cell_type": "markdown",
   "metadata": {},
   "source": [
    "# Step 3: Fast node representation alignment\n",
    "\n",
    "Now, we can plug this into step 3, as found in aligning.py and Example Alignments.ipynb."
   ]
  },
  {
   "cell_type": "code",
   "execution_count": 11,
   "metadata": {},
   "outputs": [],
   "source": [
    "from aligning import *"
   ]
  },
  {
   "cell_type": "code",
   "execution_count": 12,
   "metadata": {},
   "outputs": [
    {
     "name": "stdout",
     "output_type": "stream",
     "text": [
      "<Compressed Sparse Row sparse matrix of dtype 'float64'\n",
      "\twith 20 stored elements and shape (5, 6)>\n",
      "  Coords\tValues\n",
      "  (0, 0)\t0.2816117602320688\n",
      "  (0, 5)\t0.2809696922236644\n",
      "  (0, 1)\t0.27246461956466755\n",
      "  (0, 3)\t0.26712212863530455\n",
      "  (1, 0)\t0.8265958946975658\n",
      "  (1, 5)\t0.8175434299532052\n",
      "  (1, 1)\t0.27299820119679885\n",
      "  (1, 3)\t0.27127005165809465\n",
      "  (2, 0)\t0.8265958946975658\n",
      "  (2, 5)\t0.8175434299532052\n",
      "  (2, 1)\t0.27299820119679885\n",
      "  (2, 3)\t0.27127005165809465\n",
      "  (3, 1)\t0.8175434299551341\n",
      "  (3, 2)\t0.7452272845376627\n",
      "  (3, 4)\t0.7452272845376627\n",
      "  (3, 3)\t0.28750677720374995\n",
      "  (4, 0)\t0.9801996534648412\n",
      "  (4, 5)\t0.8415098274793559\n",
      "  (4, 1)\t0.28055964236754904\n",
      "  (4, 3)\t0.27359645753121126\n"
     ]
    }
   ],
   "source": [
    "similarity_matrix = get_similarity_matrix(representations_1, representations_2, 4)\n",
    "print(similarity_matrix)"
   ]
  }
 ],
 "metadata": {
  "kernelspec": {
   "display_name": "Python 3",
   "language": "python",
   "name": "python3"
  },
  "language_info": {
   "codemirror_mode": {
    "name": "ipython",
    "version": 3
   },
   "file_extension": ".py",
   "mimetype": "text/x-python",
   "name": "python",
   "nbconvert_exporter": "python",
   "pygments_lexer": "ipython3",
   "version": "3.13.0"
  }
 },
 "nbformat": 4,
 "nbformat_minor": 2
}
