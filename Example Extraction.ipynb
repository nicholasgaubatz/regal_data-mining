{
 "cells": [
  {
   "cell_type": "code",
   "execution_count": 14,
   "metadata": {
    "vscode": {
     "languageId": "markdown"
    }
   },
   "outputs": [],
   "source": [
    "# Cell 1: Import necessary libraries and functions from extract.py\n",
    "\n",
    "import numpy as np\n",
    "from scipy import sparse\n",
    "from extract import Graph, extract_node_identity  # Import classes and functions\n"
   ]
  },
  {
   "cell_type": "code",
   "execution_count": 15,
   "metadata": {
    "vscode": {
     "languageId": "markdown"
    }
   },
   "outputs": [],
   "source": [
    "\n",
    "# Cell 2: Define Graphs for Testing\n",
    "\n",
    "# Define an adjacency matrix for Graph 1\n",
    "adj_matrix_1 = sparse.csr_matrix(np.array([\n",
    "    [0, 1, 1, 0],\n",
    "    [1, 0, 1, 1],\n",
    "    [1, 1, 0, 1],\n",
    "    [0, 1, 1, 0]\n",
    "]))\n",
    "\n",
    "# Define an adjacency matrix for Graph 2\n",
    "adj_matrix_2 = sparse.csr_matrix(np.array([\n",
    "    [0, 1, 0, 1],\n",
    "    [1, 0, 1, 0],\n",
    "    [0, 1, 0, 1],\n",
    "    [1, 0, 1, 0]\n",
    "]))\n",
    "\n",
    "# Initialize the graph objects\n",
    "graph1 = Graph(adj_matrix_1)\n",
    "graph2 = Graph(adj_matrix_2)\n"
   ]
  },
  {
   "cell_type": "code",
   "execution_count": 16,
   "metadata": {
    "vscode": {
     "languageId": "markdown"
    }
   },
   "outputs": [
    {
     "name": "stdout",
     "output_type": "stream",
     "text": [
      "Node Identities for Graph 1:\n",
      " [[0.  0.  0.  2.  0.  0.  0.5 1. ]\n",
      " [0.  0.  2.  1.  0.  0.  1.  0.5]\n",
      " [0.  0.  2.  1.  0.  0.  1.  0.5]\n",
      " [0.  0.  0.  2.  0.  0.  0.5 1. ]]\n",
      "\n",
      "Node Identities for Graph 2:\n",
      " [[0.  0.  2.  0.  0.  1.5]\n",
      " [0.  0.  2.  0.  0.  1.5]\n",
      " [0.  0.  2.  0.  0.  1.5]\n",
      " [0.  0.  2.  0.  0.  1.5]]\n"
     ]
    }
   ],
   "source": [
    "# Cell 3: Set Parameters and Extract Features\n",
    "\n",
    "# Set parameters\n",
    "K = 2  # Maximum hop distance\n",
    "delta = 0.5  # Discount factor\n",
    "\n",
    "# Extract node identities for both graphs\n",
    "node_identities_1 = extract_node_identity(graph1, K, delta)\n",
    "node_identities_2 = extract_node_identity(graph2, K, delta)\n",
    "\n",
    "print(\"Node Identities for Graph 1:\\n\", node_identities_1)\n",
    "print(\"\\nNode Identities for Graph 2:\\n\", node_identities_2)\n"
   ]
  },
  {
   "cell_type": "code",
   "execution_count": 17,
   "metadata": {
    "vscode": {
     "languageId": "markdown"
    }
   },
   "outputs": [
    {
     "name": "stdout",
     "output_type": "stream",
     "text": [
      "Node Identities for Graph 1:\n"
     ]
    },
    {
     "data": {
      "text/html": [
       "<div>\n",
       "<style scoped>\n",
       "    .dataframe tbody tr th:only-of-type {\n",
       "        vertical-align: middle;\n",
       "    }\n",
       "\n",
       "    .dataframe tbody tr th {\n",
       "        vertical-align: top;\n",
       "    }\n",
       "\n",
       "    .dataframe thead th {\n",
       "        text-align: right;\n",
       "    }\n",
       "</style>\n",
       "<table border=\"1\" class=\"dataframe\">\n",
       "  <thead>\n",
       "    <tr style=\"text-align: right;\">\n",
       "      <th></th>\n",
       "      <th>Feature_0</th>\n",
       "      <th>Feature_1</th>\n",
       "      <th>Feature_2</th>\n",
       "      <th>Feature_3</th>\n",
       "      <th>Feature_4</th>\n",
       "      <th>Feature_5</th>\n",
       "      <th>Feature_6</th>\n",
       "      <th>Feature_7</th>\n",
       "    </tr>\n",
       "  </thead>\n",
       "  <tbody>\n",
       "    <tr>\n",
       "      <th>0</th>\n",
       "      <td>0.0</td>\n",
       "      <td>0.0</td>\n",
       "      <td>0.0</td>\n",
       "      <td>2.0</td>\n",
       "      <td>0.0</td>\n",
       "      <td>0.0</td>\n",
       "      <td>0.5</td>\n",
       "      <td>1.0</td>\n",
       "    </tr>\n",
       "    <tr>\n",
       "      <th>1</th>\n",
       "      <td>0.0</td>\n",
       "      <td>0.0</td>\n",
       "      <td>2.0</td>\n",
       "      <td>1.0</td>\n",
       "      <td>0.0</td>\n",
       "      <td>0.0</td>\n",
       "      <td>1.0</td>\n",
       "      <td>0.5</td>\n",
       "    </tr>\n",
       "    <tr>\n",
       "      <th>2</th>\n",
       "      <td>0.0</td>\n",
       "      <td>0.0</td>\n",
       "      <td>2.0</td>\n",
       "      <td>1.0</td>\n",
       "      <td>0.0</td>\n",
       "      <td>0.0</td>\n",
       "      <td>1.0</td>\n",
       "      <td>0.5</td>\n",
       "    </tr>\n",
       "    <tr>\n",
       "      <th>3</th>\n",
       "      <td>0.0</td>\n",
       "      <td>0.0</td>\n",
       "      <td>0.0</td>\n",
       "      <td>2.0</td>\n",
       "      <td>0.0</td>\n",
       "      <td>0.0</td>\n",
       "      <td>0.5</td>\n",
       "      <td>1.0</td>\n",
       "    </tr>\n",
       "  </tbody>\n",
       "</table>\n",
       "</div>"
      ],
      "text/plain": [
       "   Feature_0  Feature_1  Feature_2  Feature_3  Feature_4  Feature_5  \\\n",
       "0        0.0        0.0        0.0        2.0        0.0        0.0   \n",
       "1        0.0        0.0        2.0        1.0        0.0        0.0   \n",
       "2        0.0        0.0        2.0        1.0        0.0        0.0   \n",
       "3        0.0        0.0        0.0        2.0        0.0        0.0   \n",
       "\n",
       "   Feature_6  Feature_7  \n",
       "0        0.5        1.0  \n",
       "1        1.0        0.5  \n",
       "2        1.0        0.5  \n",
       "3        0.5        1.0  "
      ]
     },
     "metadata": {},
     "output_type": "display_data"
    },
    {
     "name": "stdout",
     "output_type": "stream",
     "text": [
      "Node Identities for Graph 2:\n"
     ]
    },
    {
     "data": {
      "text/html": [
       "<div>\n",
       "<style scoped>\n",
       "    .dataframe tbody tr th:only-of-type {\n",
       "        vertical-align: middle;\n",
       "    }\n",
       "\n",
       "    .dataframe tbody tr th {\n",
       "        vertical-align: top;\n",
       "    }\n",
       "\n",
       "    .dataframe thead th {\n",
       "        text-align: right;\n",
       "    }\n",
       "</style>\n",
       "<table border=\"1\" class=\"dataframe\">\n",
       "  <thead>\n",
       "    <tr style=\"text-align: right;\">\n",
       "      <th></th>\n",
       "      <th>Feature_0</th>\n",
       "      <th>Feature_1</th>\n",
       "      <th>Feature_2</th>\n",
       "      <th>Feature_3</th>\n",
       "      <th>Feature_4</th>\n",
       "      <th>Feature_5</th>\n",
       "    </tr>\n",
       "  </thead>\n",
       "  <tbody>\n",
       "    <tr>\n",
       "      <th>0</th>\n",
       "      <td>0.0</td>\n",
       "      <td>0.0</td>\n",
       "      <td>2.0</td>\n",
       "      <td>0.0</td>\n",
       "      <td>0.0</td>\n",
       "      <td>1.5</td>\n",
       "    </tr>\n",
       "    <tr>\n",
       "      <th>1</th>\n",
       "      <td>0.0</td>\n",
       "      <td>0.0</td>\n",
       "      <td>2.0</td>\n",
       "      <td>0.0</td>\n",
       "      <td>0.0</td>\n",
       "      <td>1.5</td>\n",
       "    </tr>\n",
       "    <tr>\n",
       "      <th>2</th>\n",
       "      <td>0.0</td>\n",
       "      <td>0.0</td>\n",
       "      <td>2.0</td>\n",
       "      <td>0.0</td>\n",
       "      <td>0.0</td>\n",
       "      <td>1.5</td>\n",
       "    </tr>\n",
       "    <tr>\n",
       "      <th>3</th>\n",
       "      <td>0.0</td>\n",
       "      <td>0.0</td>\n",
       "      <td>2.0</td>\n",
       "      <td>0.0</td>\n",
       "      <td>0.0</td>\n",
       "      <td>1.5</td>\n",
       "    </tr>\n",
       "  </tbody>\n",
       "</table>\n",
       "</div>"
      ],
      "text/plain": [
       "   Feature_0  Feature_1  Feature_2  Feature_3  Feature_4  Feature_5\n",
       "0        0.0        0.0        2.0        0.0        0.0        1.5\n",
       "1        0.0        0.0        2.0        0.0        0.0        1.5\n",
       "2        0.0        0.0        2.0        0.0        0.0        1.5\n",
       "3        0.0        0.0        2.0        0.0        0.0        1.5"
      ]
     },
     "metadata": {},
     "output_type": "display_data"
    }
   ],
   "source": [
    "# Cell 4: Display the Results in a Table\n",
    "\n",
    "import pandas as pd\n",
    "\n",
    "# Convert node identity arrays to DataFrames for easy viewing\n",
    "df_graph1 = pd.DataFrame(node_identities_1, columns=[f\"Feature_{i}\" for i in range(node_identities_1.shape[1])])\n",
    "df_graph2 = pd.DataFrame(node_identities_2, columns=[f\"Feature_{i}\" for i in range(node_identities_2.shape[1])])\n",
    "\n",
    "print(\"Node Identities for Graph 1:\")\n",
    "display(df_graph1)\n",
    "\n",
    "print(\"Node Identities for Graph 2:\")\n",
    "display(df_graph2)\n"
   ]
  }
 ],
 "metadata": {
  "kernelspec": {
   "display_name": "Python 3",
   "language": "python",
   "name": "python3"
  },
  "language_info": {
   "codemirror_mode": {
    "name": "ipython",
    "version": 3
   },
   "file_extension": ".py",
   "mimetype": "text/x-python",
   "name": "python",
   "nbconvert_exporter": "python",
   "pygments_lexer": "ipython3",
   "version": "3.12.3"
  }
 },
 "nbformat": 4,
 "nbformat_minor": 2
}
