{
 "cells": [
  {
   "cell_type": "markdown",
   "id": "6dd88810",
   "metadata": {},
   "source": [
    "# Jupyter Notebook to present the functionality of the code to create alignments\n",
    "## Import section\n",
    "Requires the REGAL Code for the embeddings"
   ]
  },
  {
   "cell_type": "code",
   "execution_count": null,
   "id": "85435653",
   "metadata": {},
   "outputs": [],
   "source": [
    "import os\n",
    "from scipy.sparse import *\n",
    "from aligning import *\n",
    "import numpy as np \n",
    "from scipy import sparse\n",
    "from xnetmf import *\n",
    "from config import *"
   ]
  },
  {
   "cell_type": "markdown",
   "id": "f3d7bd74",
   "metadata": {},
   "source": [
    "## Get embeddings\n",
    "Create two random networks and get the embeddings using the xnetmf from the regal framework."
   ]
  },
  {
   "cell_type": "code",
   "execution_count": 5,
   "id": "3ad9997f",
   "metadata": {},
   "outputs": [
    {
     "name": "stdout",
     "output_type": "stream",
     "text": [
      "max degree:  552\n",
      "got k hop neighbors in time:  44.15538287162781\n",
      "got degree sequences in time:  1.1689519882202148\n",
      "feature dimensionality is  109\n",
      "computed representation in time:  0.007100820541381836\n",
      "(2000, 109)\n"
     ]
    }
   ],
   "source": [
    "A = sparse.csr_matrix( np.random.randint(2,size=(1000,1000)) )\n",
    "B = sparse.csr_matrix( np.random.randint(2,size=(1000,1000)) )\n",
    "comb = sparse.block_diag([A,B])\n",
    "\n",
    "graph = Graph(adj = comb.tocsr())\n",
    "rep_method = RepMethod(max_layer = 2)\n",
    "representations = get_representations(graph, rep_method)\n",
    "print (representations.shape)"
   ]
  },
  {
   "cell_type": "markdown",
   "id": "731ed593",
   "metadata": {},
   "source": [
    "## Calculate Similarity\n",
    "As the embeddings are merged within the xnetmf framework, we need to split them. "
   ]
  },
  {
   "cell_type": "code",
   "execution_count": 6,
   "id": "dce87af7",
   "metadata": {},
   "outputs": [],
   "source": [
    "em1, em2=split_embeddings(representations)"
   ]
  },
  {
   "cell_type": "markdown",
   "id": "5c4ff7ea",
   "metadata": {},
   "source": [
    "We can calculate the similarity matrix from the split embeddings. "
   ]
  },
  {
   "cell_type": "code",
   "execution_count": 7,
   "id": "cb3d5ede",
   "metadata": {},
   "outputs": [],
   "source": [
    "similarity_matrix=get_similarity_matrix(em1,em2,4)"
   ]
  }
 ],
 "metadata": {
  "kernelspec": {
   "display_name": "Python 3 (ipykernel)",
   "language": "python",
   "name": "python3"
  },
  "language_info": {
   "codemirror_mode": {
    "name": "ipython",
    "version": 3
   },
   "file_extension": ".py",
   "mimetype": "text/x-python",
   "name": "python",
   "nbconvert_exporter": "python",
   "pygments_lexer": "ipython3",
   "version": "3.8.13"
  }
 },
 "nbformat": 4,
 "nbformat_minor": 5
}
